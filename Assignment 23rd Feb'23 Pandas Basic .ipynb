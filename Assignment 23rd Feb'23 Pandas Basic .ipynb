{
 "cells": [
  {
   "cell_type": "markdown",
   "id": "8cd2866f-88fd-4e20-9805-28916ec8e09e",
   "metadata": {},
   "source": [
    "Q1. Create a Pandas Series that contains the following data: 4, 8, 15, 16, 23, and 42. Then, print the series."
   ]
  },
  {
   "cell_type": "code",
   "execution_count": 1,
   "id": "91db3cbd-ab1a-4d88-a8ab-162fb4e643de",
   "metadata": {},
   "outputs": [],
   "source": [
    "import pandas as pd"
   ]
  },
  {
   "cell_type": "code",
   "execution_count": 2,
   "id": "7aad0097-7181-4303-9329-5c424247ed61",
   "metadata": {},
   "outputs": [],
   "source": [
    "Data = [4,8,15,16,23,42]"
   ]
  },
  {
   "cell_type": "code",
   "execution_count": 3,
   "id": "b36b19e3-e78d-48bd-9959-f8b9d27e941a",
   "metadata": {},
   "outputs": [],
   "source": [
    "Series = pd.Series(Data)"
   ]
  },
  {
   "cell_type": "code",
   "execution_count": 4,
   "id": "818293f6-3ab8-4122-bd14-a8d55fb15dc4",
   "metadata": {},
   "outputs": [
    {
     "data": {
      "text/plain": [
       "0     4\n",
       "1     8\n",
       "2    15\n",
       "3    16\n",
       "4    23\n",
       "5    42\n",
       "dtype: int64"
      ]
     },
     "execution_count": 4,
     "metadata": {},
     "output_type": "execute_result"
    }
   ],
   "source": [
    "Series"
   ]
  },
  {
   "cell_type": "markdown",
   "id": "1c8c69ad-9776-476a-92a4-c25ee6331129",
   "metadata": {},
   "source": [
    "Q2. Create a variable of list type containing 10 elements in it, and apply pandas.Series function on the variable print it."
   ]
  },
  {
   "cell_type": "code",
   "execution_count": 6,
   "id": "1f7e2f29-2751-4b22-b6fb-2aa350d40b1e",
   "metadata": {},
   "outputs": [],
   "source": [
    "list = [1,2,3,4,5,6,7,8,9,10]"
   ]
  },
  {
   "cell_type": "code",
   "execution_count": 7,
   "id": "8632d0f4-5c71-468a-9f2d-903189906e97",
   "metadata": {},
   "outputs": [],
   "source": [
    "series = pd.Series(list)"
   ]
  },
  {
   "cell_type": "code",
   "execution_count": 8,
   "id": "5cb4eca2-5c69-41bd-962c-737e78fa64ae",
   "metadata": {},
   "outputs": [
    {
     "data": {
      "text/plain": [
       "0     1\n",
       "1     2\n",
       "2     3\n",
       "3     4\n",
       "4     5\n",
       "5     6\n",
       "6     7\n",
       "7     8\n",
       "8     9\n",
       "9    10\n",
       "dtype: int64"
      ]
     },
     "execution_count": 8,
     "metadata": {},
     "output_type": "execute_result"
    }
   ],
   "source": [
    "series"
   ]
  },
  {
   "cell_type": "markdown",
   "id": "61ef5060-c96a-42fb-bb83-1278fdbac84c",
   "metadata": {},
   "source": [
    "Q3. Create a Pandas DataFrame that contains the following data:\n",
    "\n",
    "Name\n",
    "Alice\n",
    "Bob\n",
    "Claire\n",
    "\n",
    "Age\n",
    "25\n",
    "30\n",
    "27\n",
    "\n",
    "Gender\n",
    "Female\n",
    "Male\n",
    "Female\n",
    "\n",
    "Then, print the DataFrame."
   ]
  },
  {
   "cell_type": "code",
   "execution_count": 9,
   "id": "96000f83-2321-4a7f-943d-6367cd7c5567",
   "metadata": {},
   "outputs": [],
   "source": [
    "data = {'Name':['Alice', 'Bob', 'Charlie'],\n",
    "       'Age' : [25,30,37], \n",
    "       'Gender' : ['Female', 'Male', 'Female']}"
   ]
  },
  {
   "cell_type": "code",
   "execution_count": 11,
   "id": "772459cb-de9c-4a20-81e7-646486b2141f",
   "metadata": {},
   "outputs": [],
   "source": [
    "df = pd.DataFrame(data)"
   ]
  },
  {
   "cell_type": "code",
   "execution_count": 12,
   "id": "14a1f336-1943-4bfc-b257-808c2b9f91b7",
   "metadata": {},
   "outputs": [
    {
     "data": {
      "text/html": [
       "<div>\n",
       "<style scoped>\n",
       "    .dataframe tbody tr th:only-of-type {\n",
       "        vertical-align: middle;\n",
       "    }\n",
       "\n",
       "    .dataframe tbody tr th {\n",
       "        vertical-align: top;\n",
       "    }\n",
       "\n",
       "    .dataframe thead th {\n",
       "        text-align: right;\n",
       "    }\n",
       "</style>\n",
       "<table border=\"1\" class=\"dataframe\">\n",
       "  <thead>\n",
       "    <tr style=\"text-align: right;\">\n",
       "      <th></th>\n",
       "      <th>Name</th>\n",
       "      <th>Age</th>\n",
       "      <th>Gender</th>\n",
       "    </tr>\n",
       "  </thead>\n",
       "  <tbody>\n",
       "    <tr>\n",
       "      <th>0</th>\n",
       "      <td>Alice</td>\n",
       "      <td>25</td>\n",
       "      <td>Female</td>\n",
       "    </tr>\n",
       "    <tr>\n",
       "      <th>1</th>\n",
       "      <td>Bob</td>\n",
       "      <td>30</td>\n",
       "      <td>Male</td>\n",
       "    </tr>\n",
       "    <tr>\n",
       "      <th>2</th>\n",
       "      <td>Charlie</td>\n",
       "      <td>37</td>\n",
       "      <td>Female</td>\n",
       "    </tr>\n",
       "  </tbody>\n",
       "</table>\n",
       "</div>"
      ],
      "text/plain": [
       "      Name  Age  Gender\n",
       "0    Alice   25  Female\n",
       "1      Bob   30    Male\n",
       "2  Charlie   37  Female"
      ]
     },
     "execution_count": 12,
     "metadata": {},
     "output_type": "execute_result"
    }
   ],
   "source": [
    "df"
   ]
  },
  {
   "cell_type": "markdown",
   "id": "72ffb642-2b76-4758-af89-3531faf5fa00",
   "metadata": {},
   "source": [
    "Q4. What is ‘DataFrame’ in pandas and how is it different from pandas.series? Explain with an example."
   ]
  },
  {
   "cell_type": "markdown",
   "id": "a0d1e8b2-59ba-442d-bf29-6c2144de42d1",
   "metadata": {},
   "source": [
    "Answer 4. In Pandas, a Series is a one-dimensional labeled array capable of holding data of any type (integer, string, float, etc.) while a DataFrame is a two-dimensional labeled data structure with columns of potentially different types. A DataFrame can be thought of as a collection of Series objects that share the same index. \n",
    "\n",
    "Examples are illustrated below."
   ]
  },
  {
   "cell_type": "code",
   "execution_count": 13,
   "id": "e736613b-b723-4492-b528-39da492a198d",
   "metadata": {},
   "outputs": [
    {
     "name": "stdout",
     "output_type": "stream",
     "text": [
      "0     1\n",
      "1     2\n",
      "2     3\n",
      "3     4\n",
      "4     5\n",
      "5     6\n",
      "6     7\n",
      "7     8\n",
      "8     9\n",
      "9    10\n",
      "dtype: int64\n"
     ]
    }
   ],
   "source": [
    "list = [1,2,3,4,5,6,7,8,9,10]\n",
    "series = pd.Series(list)\n",
    "print(series)\n"
   ]
  },
  {
   "cell_type": "code",
   "execution_count": 14,
   "id": "a5fefbb7-462a-4d90-9a52-294c6256f310",
   "metadata": {},
   "outputs": [
    {
     "name": "stdout",
     "output_type": "stream",
     "text": [
      "      Name  Age  Gender\n",
      "0    Alice   25  Female\n",
      "1      Bob   30    Male\n",
      "2  Charlie   37  Female\n"
     ]
    }
   ],
   "source": [
    "data = {'Name':['Alice', 'Bob', 'Charlie'],\n",
    "       'Age' : [25,30,37], \n",
    "       'Gender' : ['Female', 'Male', 'Female']}\n",
    "df = pd.DataFrame(data)\n",
    "print(df)"
   ]
  },
  {
   "cell_type": "markdown",
   "id": "be3ac0f3-5dcf-4842-9639-3b14f58762ab",
   "metadata": {},
   "source": [
    "Q5. What are some common functions you can use to manipulate data in a Pandas DataFrame? Can you give an example of when you might use one of these functions?"
   ]
  },
  {
   "cell_type": "markdown",
   "id": "0758a960-9199-423f-9c2f-92708254450a",
   "metadata": {},
   "source": [
    "Answer 5. There are many functions available in Pandas for manipulating data in a DataFrame. Here are some of the most commonly used functions:\n",
    "\n",
    "1. head(): returns the first n rows of the DataFrame (default n=5).\n",
    "\n",
    "2. tail(): returns the last n rows of the DataFrame (default n=5).\n",
    "\n",
    "3. info(): provides a concise summary of the DataFrame, including column names, data types, and number of non-null values.\n",
    "\n",
    "4. describe(): generates descriptive statistics of the DataFrame, such as count, mean, standard deviation, minimum and maximum values, and quartiles.\n",
    "\n",
    "5. groupby(): groups the DataFrame by one or more columns and applies a function to each group.\n",
    "\n",
    "6. drop(): drops specified labels (rows or columns) from the DataFrame.\n",
    "\n",
    "7. fillna(): fills missing values in the DataFrame with a specified value or method.\n",
    "\n",
    "8. apply(): applies a function to each element of the DataFrame.\n",
    "\n",
    "9. sort_values(): sorts the DataFrame by one or more columns.\n",
    "\n",
    "\n",
    "Example of Groupby() is illustrated below."
   ]
  },
  {
   "cell_type": "code",
   "execution_count": 19,
   "id": "3de4a5d0-7a53-4bc7-bda9-8ab6f5fb2f3f",
   "metadata": {},
   "outputs": [],
   "source": [
    "data = {'Month': ['Jan', 'Jan', 'Feb', 'Feb', 'Mar', 'Mar'],\n",
    "        'Product': ['A', 'B', 'A', 'B', 'A', 'B'],\n",
    "        'Revenue': [1000, 2000, 1500, 2500, 1200, 1800]}"
   ]
  },
  {
   "cell_type": "code",
   "execution_count": 21,
   "id": "56dc6858-57b9-4565-8417-25d14fbf6bb2",
   "metadata": {},
   "outputs": [],
   "source": [
    "df = pd.DataFrame(data)"
   ]
  },
  {
   "cell_type": "code",
   "execution_count": 23,
   "id": "954e03fd-40a3-42d7-aec4-bf8eadb16c3b",
   "metadata": {},
   "outputs": [],
   "source": [
    "revenue_month_by = df.groupby('Month')['Revenue'].sum()"
   ]
  },
  {
   "cell_type": "code",
   "execution_count": 24,
   "id": "9bd66dd1-d2ff-4dcd-a306-dba66e00c67d",
   "metadata": {},
   "outputs": [
    {
     "data": {
      "text/plain": [
       "Month\n",
       "Feb    4000\n",
       "Jan    3000\n",
       "Mar    3000\n",
       "Name: Revenue, dtype: int64"
      ]
     },
     "execution_count": 24,
     "metadata": {},
     "output_type": "execute_result"
    }
   ],
   "source": [
    "revenue_month_by"
   ]
  },
  {
   "cell_type": "markdown",
   "id": "c1ed1282-5b41-49a1-967a-c14063dd241f",
   "metadata": {},
   "source": [
    "Q6. Which of the following is mutable in nature Series, DataFrame, Panel?"
   ]
  },
  {
   "cell_type": "markdown",
   "id": "83c3e3f1-a91d-4e4c-94fc-0c34bd16bf32",
   "metadata": {},
   "source": [
    "Answer 6 - Both Series and DataFrame are mutable in nature, while Panel is considered deprecated and no longer recommended for use.\n",
    "\n",
    "In pandas, mutable means that the object can be modified in place without creating a new object. For example, we can change the values in a Series or DataFrame without having to create a new Series or DataFrame object.\n",
    "\n",
    "However, it is important to note that some operations on a DataFrame or Series may return a new object, rather than modifying the original object in place. For example, calling the drop() method on a DataFrame returns a new DataFrame with the specified rows or columns removed, rather than modifying the original DataFrame in place."
   ]
  },
  {
   "cell_type": "markdown",
   "id": "52ef7851-46df-46c9-886f-97c4d45b488c",
   "metadata": {},
   "source": [
    "Q7. Create a DataFrame using multiple Series. Explain with an example."
   ]
  },
  {
   "cell_type": "code",
   "execution_count": 27,
   "id": "d1f9d816-a616-4bf8-929a-af91e08bb1d0",
   "metadata": {},
   "outputs": [],
   "source": [
    "s1 = pd.Series([8,99, 100, 5000,50000], name = 'X' )\n",
    "s2 = pd.Series([90,60,30,45,90], name = 'Y') \n",
    "s3 = pd.Series(['a', 'b', 'c', 'd', 'e'], name = 'Z')"
   ]
  },
  {
   "cell_type": "code",
   "execution_count": 29,
   "id": "9608b299-b876-480d-85f4-d4867be8ac71",
   "metadata": {},
   "outputs": [],
   "source": [
    "df = pd.DataFrame({'Column_A': s1, 'Column_B': s2, 'Column_C':s3})"
   ]
  },
  {
   "cell_type": "code",
   "execution_count": 30,
   "id": "675ee594-3e8c-4028-b74d-9d288b57e55b",
   "metadata": {},
   "outputs": [
    {
     "data": {
      "text/html": [
       "<div>\n",
       "<style scoped>\n",
       "    .dataframe tbody tr th:only-of-type {\n",
       "        vertical-align: middle;\n",
       "    }\n",
       "\n",
       "    .dataframe tbody tr th {\n",
       "        vertical-align: top;\n",
       "    }\n",
       "\n",
       "    .dataframe thead th {\n",
       "        text-align: right;\n",
       "    }\n",
       "</style>\n",
       "<table border=\"1\" class=\"dataframe\">\n",
       "  <thead>\n",
       "    <tr style=\"text-align: right;\">\n",
       "      <th></th>\n",
       "      <th>Column_A</th>\n",
       "      <th>Column_B</th>\n",
       "      <th>Column_C</th>\n",
       "    </tr>\n",
       "  </thead>\n",
       "  <tbody>\n",
       "    <tr>\n",
       "      <th>0</th>\n",
       "      <td>8</td>\n",
       "      <td>90</td>\n",
       "      <td>a</td>\n",
       "    </tr>\n",
       "    <tr>\n",
       "      <th>1</th>\n",
       "      <td>99</td>\n",
       "      <td>60</td>\n",
       "      <td>b</td>\n",
       "    </tr>\n",
       "    <tr>\n",
       "      <th>2</th>\n",
       "      <td>100</td>\n",
       "      <td>30</td>\n",
       "      <td>c</td>\n",
       "    </tr>\n",
       "    <tr>\n",
       "      <th>3</th>\n",
       "      <td>5000</td>\n",
       "      <td>45</td>\n",
       "      <td>d</td>\n",
       "    </tr>\n",
       "    <tr>\n",
       "      <th>4</th>\n",
       "      <td>50000</td>\n",
       "      <td>90</td>\n",
       "      <td>e</td>\n",
       "    </tr>\n",
       "  </tbody>\n",
       "</table>\n",
       "</div>"
      ],
      "text/plain": [
       "   Column_A  Column_B Column_C\n",
       "0         8        90        a\n",
       "1        99        60        b\n",
       "2       100        30        c\n",
       "3      5000        45        d\n",
       "4     50000        90        e"
      ]
     },
     "execution_count": 30,
     "metadata": {},
     "output_type": "execute_result"
    }
   ],
   "source": [
    "df "
   ]
  },
  {
   "cell_type": "markdown",
   "id": "82b0e5e6-c1b8-4fe0-b0ac-b75eeef1a9bf",
   "metadata": {},
   "source": [
    "In the above example, I have created three Series objects named s1, s2, and s3. Then passed a dictionary with the column names as keys and the corresponding Series as values to create a DataFrame named df. I have used the pd.Series() function to create each Series."
   ]
  },
  {
   "cell_type": "code",
   "execution_count": null,
   "id": "f8f270c9-9b01-4960-96fb-7ef9e37cd5a0",
   "metadata": {},
   "outputs": [],
   "source": []
  }
 ],
 "metadata": {
  "kernelspec": {
   "display_name": "Python 3 (ipykernel)",
   "language": "python",
   "name": "python3"
  },
  "language_info": {
   "codemirror_mode": {
    "name": "ipython",
    "version": 3
   },
   "file_extension": ".py",
   "mimetype": "text/x-python",
   "name": "python",
   "nbconvert_exporter": "python",
   "pygments_lexer": "ipython3",
   "version": "3.10.8"
  }
 },
 "nbformat": 4,
 "nbformat_minor": 5
}
